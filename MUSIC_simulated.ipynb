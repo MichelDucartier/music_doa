{
 "cells": [
  {
   "cell_type": "markdown",
   "metadata": {},
   "source": [
    "# MUSIC for Direction of Arrival\n",
    "\n",
    "This notebook is a demo of MUSIC for Direction of Arrival\n",
    "\n",
    "## Test on simulated data"
   ]
  },
  {
   "cell_type": "code",
   "execution_count": 1,
   "metadata": {},
   "outputs": [],
   "source": [
    "import numpy as np\n",
    "import matplotlib.pyplot as plt\n",
    "import math\n",
    "from scipy.signal import find_peaks\n",
    "\n",
    "import sys\n",
    "sys.path.append(\"src\")\n",
    "\n",
    "from music import *\n",
    "from simulated_signal import *"
   ]
  },
  {
   "cell_type": "code",
   "execution_count": 2,
   "metadata": {},
   "outputs": [],
   "source": [
    "# Constants\n",
    "thetas = np.array([0.5, 1]) # in radians (should be in [0, pi/2])\n",
    "n_sources = len(thetas)\n",
    "w0 = np.pi / 4\n",
    "n_mics = 20\n",
    "mic_distance = 1\n",
    "wavelength = 1\n",
    "noise_var = 1\n",
    "fs = 1"
   ]
  },
  {
   "cell_type": "markdown",
   "metadata": {},
   "source": [
    "### Craft the signal\n",
    "\n",
    "We create 2 ways of crafting a simulated signal:\n",
    "1. With a simulated function that we sample\n",
    "2. Directly with the matrices containing the samples of our function\n",
    "\n",
    "\n",
    "With the function:"
   ]
  },
  {
   "cell_type": "code",
   "execution_count": 8,
   "metadata": {},
   "outputs": [
    {
     "data": {
      "text/plain": [
       "(20, 100)"
      ]
     },
     "execution_count": 8,
     "metadata": {},
     "output_type": "execute_result"
    }
   ],
   "source": [
    "narrowband_signals = [narrowband_signal(k, w0) for k in range(n_sources)]\n",
    "received_signals = [received_signal(thetas, narrowband_signals, m+1, \n",
    "                                    mic_distance=mic_distance, noise_var=noise_var, wavelength=wavelength) for m in range(n_mics)]\n",
    "\n",
    "n_samples = 100\n",
    "\n",
    "sampled_received = np.zeros((len(received_signals), n_samples), dtype=np.csingle)\n",
    "\n",
    "for i, received in enumerate(received_signals):\n",
    "    for j in range(n_samples):\n",
    "        sampled_received[i, j] = received(j / fs)\n",
    "\n",
    "sampled_received.shape"
   ]
  },
  {
   "cell_type": "markdown",
   "metadata": {},
   "source": [
    "Directly with the samples:"
   ]
  },
  {
   "cell_type": "code",
   "execution_count": 4,
   "metadata": {},
   "outputs": [],
   "source": [
    "phis = np.array([np.exp(-2j * np.pi * mic_distance * np.sin(theta) / wavelength) for theta in thetas])\n",
    "A = np.vander(phis, n_mics, increasing=True).T\n",
    "S = np.random.normal(0, 1, (n_sources, n_samples))\n",
    "noise_matrix = np.random.normal(0, noise_var, (n_mics, n_samples, 2)).view(np.complex128).reshape((n_mics, n_samples))\n",
    "\n",
    "sampled_received = (A @ S) + noise_matrix "
   ]
  },
  {
   "cell_type": "markdown",
   "metadata": {},
   "source": [
    "### Music implementation"
   ]
  },
  {
   "cell_type": "code",
   "execution_count": 9,
   "metadata": {},
   "outputs": [
    {
     "name": "stdout",
     "output_type": "stream",
     "text": [
      "Samples shape: (20, 100)\n",
      "Covariance shape: (20, 20)\n"
     ]
    }
   ],
   "source": [
    "signal_eigenvalues, signal_eigenvectors, noise_eigenvalues, noise_eigenvectors = music(sampled_received, n_sources)"
   ]
  },
  {
   "cell_type": "code",
   "execution_count": 10,
   "metadata": {},
   "outputs": [
    {
     "data": {
      "image/png": "[encoded data removed]",
      "text/plain": [
       "<Figure size 432x288 with 1 Axes>"
      ]
     },
     "metadata": {
      "needs_background": "light"
     },
     "output_type": "display_data"
    }
   ],
   "source": [
    "spectrum = mic_array_spectrum_function(noise_eigenvectors, mic_distance=mic_distance, wavelength=wavelength)\n",
    "\n",
    "X = np.linspace(-1, 1, 10000)\n",
    "Y = [spectrum(x) for x in X]\n",
    "\n",
    "plt.plot(X, Y)\n",
    "for theta in thetas:\n",
    "    plt.axvline(x=np.sin(theta), color='red', linestyle=':', alpha=0.5)\n",
    "plt.show()"
   ]
  },
  {
   "cell_type": "markdown",
   "metadata": {},
   "source": [
    "Extract the frequencies from the peaks. Note that our method only works for theta in $\\left[0, \\frac{\\pi}{2} \\right]$ because of the symmetry of the complex exponential and sinus function."
   ]
  },
  {
   "cell_type": "code",
   "execution_count": 11,
   "metadata": {},
   "outputs": [
    {
     "name": "stdout",
     "output_type": "stream",
     "text": [
      "[1.0000537040194992, 0.4984901789009209]\n"
     ]
    }
   ],
   "source": [
    "sin_values = extract_frequencies(spectrum, n_sources, [0, 1])\n",
    "estimated_thetas = []\n",
    "for sv in sin_values:\n",
    "    estimated_thetas.append(np.arcsin(sv))\n",
    "\n",
    "print(estimated_thetas)"
   ]
  }
 ],
 "metadata": {
  "kernelspec": {
   "display_name": "Python 3",
   "language": "python",
   "name": "python3"
  },
  "language_info": {
   "codemirror_mode": {
    "name": "ipython",
    "version": 3
   },
   "file_extension": ".py",
   "mimetype": "text/x-python",
   "name": "python",
   "nbconvert_exporter": "python",
   "pygments_lexer": "ipython3",
   "version": "3.10.0"
  }
 },
 "nbformat": 4,
 "nbformat_minor": 2
}
