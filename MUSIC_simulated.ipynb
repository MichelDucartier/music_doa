{
 "cells": [
  {
   "cell_type": "markdown",
   "metadata": {},
   "source": [
    "# MUSIC for Direction of Arrival\n",
    "\n",
    "This notebook is a demo of MUSIC for Direction of Arrival\n",
    "\n",
    "# Introduction and mathematical background\n",
    "\n",
    "MUSIC for Direction of Arrival is an algorithm to detect the direction (angle) of $D$ sources using their received signals on $M$ microphones. Assuming the channels are additive white Gaussian noise channels and the signals are narrowband, we have the received signal at microphone $m$, which has position $(x_m, y_m)$ on the $\\mathbb{R}^2$ plane, with $\\theta_k$ being the angle of source $k$, $x^{(m)}(t)$:\n",
    "\n",
    "$$x^{(m)}(t)=\\sum_{k=1}^D S_k(t)e^{-j \\frac{2\\pi}{\\lambda} (x_m\\cos(\\theta_k)+y_m\\sin(\\theta_k))}+n_m(t)$$\n",
    "\n",
    "Note that we assume that the source is far enough away for the angle to be the same for each microphone. Even though we consider a more general case than [[1]](#paper_1) with microphones that may not be aligned, we assume that they are relatively close compared to the sources, which are at a distance order(s) of magnitude higher than the distance between microphones. Thus, for one source, the angle to all microphones is approximately the same.\n",
    "\n",
    "$n_m(t)$ is a white Gaussian process with variance $\\sigma^2$, independent for each microphone, $\\lambda$ is the wavelength and $S_k(t)$ is the wavefront signal, assumed to be narrowband.\n",
    "\n",
    "Note that by writing $a_m(\\theta_k)=e^{-j \\frac{2\\pi}{\\lambda} (x_m\\cos(\\theta_k)+y_m\\sin(\\theta_k))}$, we have\n",
    "\n",
    "$$x^{(m)}(t)=\\sum_{k=1}^D a_m(\\theta_k)S_k(t)+n_m(t)$$\n",
    "\n",
    "We will use this below to rewrite this as a matrix equation."
   ]
  },
  {
   "cell_type": "markdown",
   "metadata": {},
   "source": [
    "<font color='#d197ab'>\n",
    "    \n",
    "## Proof of the angle distance:\n",
    "    \n",
    "todo!!!!</font>"
   ]
  },
  {
   "cell_type": "markdown",
   "metadata": {},
   "source": [
    "In vector form, this can also be written as\n",
    "\n",
    "$$X=AS+N$$ (todo add dependency on t?)\n",
    "\n",
    "where\n",
    "\n",
    "$$X=\\begin{pmatrix} x^{(1)}(t) \\\\ x^{(2)}(t) \\\\ ... \\\\ x^{(M)}(t)\\end{pmatrix}, \\ \\ S = \\begin{pmatrix} S_1(t) \\\\ S_2(t) \\\\ ... \\\\ S_D(t)\\end{pmatrix}, \\ \\ N = \\begin{pmatrix} n_1(t) \\\\ n_2(t) \\\\ ... \\\\ n_M(t)\\end{pmatrix}$$\n",
    "\n",
    "\n",
    "and $A$ is an $M\\times D$ matrix such that the entry at the $m$'th row and $k$'th column is $A_{m,k}=e^{-j \\frac{2\\pi}{\\lambda} (x_m\\cos(\\theta_k)+y_m\\sin(\\theta_k))}$. That is, using our earlier notation, $A_{m,k}=a_m(\\theta_k)$.\n",
    "\n",
    "Using calculations seen and done in class, we have the auto-correlation matrix $R_X=AR_SA^H+\\sigma ^2 I$ (replaced by the empirical estimation in practice) and its eigenvalues and eigenvectors $v_i$ and $\\lambda_i$ for $1\\leq i \\leq M$, with the eigenvalues sorted in decreasing order ($\\lambda_i\\geq \\lambda_{i+1}$).\n",
    "\n",
    "The first $D$ eigenvalues and eigenvectors correspond to the signal supspace where as the remaining eigenvalues correspond to the noise subspace and should be $\\lambda_i=\\sigma^2$ for $D<i\\leq M$.\n",
    "\n",
    "Using the fact that for such $i$, $R_X v_i= \\sigma^2v_i$ and subtituting our expression for $R_X$ into this, we find that $A^Hv_i=0$, from which we can construct the $M\\times (M-D)$ noise matrix $E_n$ with the noise eigenvectors and therefore the spatial spectrum $P(\\theta)$ as follows:\n",
    "\n",
    "$$E_n= \\begin{pmatrix} v_{D+1} & ... & v_{M}\\end{pmatrix}$$\n",
    "\n",
    "$$P(\\theta)=\\frac{1}{||E_n^Ha(\\theta)||^2}$$\n",
    "\n",
    "where $a(\\theta)=\\begin{pmatrix} a_1(\\theta) \\\\ ... \\\\ a_M(\\theta)\\end{pmatrix}$.\n",
    "\n",
    "Then, the maximum values of $P(\\theta)$ (the peaks) should correspond to the angles $\\theta_1$ to $\\theta_D$, i.e. the angles of the $D$ sources.\n",
    "\n",
    "Note that apart from the additional proof, all of this was seen in class and/or in [[1]](#paper_1) and is thus not described in full detail (as it is something we had to understand, but not actually do)."
   ]
  },
  {
   "cell_type": "markdown",
   "metadata": {},
   "source": [
    "# Methods"
   ]
  },
  {
   "cell_type": "markdown",
   "metadata": {},
   "source": [
    "In this part, we implement the workflow of MUSIC for DOA described above and test it on real and simulated data. The results are discussed below (todo). "
   ]
  },
  {
   "cell_type": "markdown",
   "metadata": {},
   "source": [
    "## Simulated data"
   ]
  },
  {
   "cell_type": "code",
   "execution_count": 1,
   "metadata": {},
   "outputs": [],
   "source": [
    "import numpy as np\n",
    "import matplotlib.pyplot as plt\n",
    "import math\n",
    "from scipy.signal import find_peaks\n",
    "\n",
    "import sys\n",
    "sys.path.append(\"src\")\n",
    "\n",
    "from music import *\n",
    "from simulated_signal import *"
   ]
  },
  {
   "cell_type": "code",
   "execution_count": 2,
   "metadata": {},
   "outputs": [],
   "source": [
    "# Constants\n",
    "thetas = np.array([0.5, 1]) # in radians (should be in [0, pi/2])\n",
    "n_sources = len(thetas)\n",
    "w0 = np.pi / 5\n",
    "n_mics = 20\n",
    "mic_distance = 1\n",
    "noise_var = 3\n",
    "fs = 2000\n",
    "\n",
    "mic_coords = np.array([(0, mic_distance * i) for i in range(n_mics)]).T\n",
    "main_frequency = (fs * w0) / (2 * np.pi)\n",
    "wavelength = SOUND_SPEED / main_frequency"
   ]
  },
  {
   "cell_type": "markdown",
   "metadata": {},
   "source": [
    "### Craft the signal\n",
    "\n",
    "As mentioned in our first section, we have 2 ways of crafting a simulated signal:\n",
    "\n",
    "1. With a simulated function that we sample\n",
    "2. Directly with the matrices containing the samples of our function\n",
    "\n",
    "We start with the simulated function:\n",
    "\n",
    "Note that here, we suppose that $x_m=0$ for all $m$ and $y_m=d\\cdot (m-1)$, where $d$ is the distance between mics. This is how `received_signal` is implemented. That is, our earlier equation\n",
    "\n",
    "$$x^{(m)}(t)=\\sum_{k=1}^D S_k(t)e^{-j \\frac{2\\pi}{\\lambda} (x_m\\cos(\\theta_k)+y_m\\sin(\\theta_k))}+n_m(t)$$\n",
    "\n",
    "becomes\n",
    "\n",
    "$$x^{(m)}(t)=\\sum_{k=1}^D S_k(t)e^{-j \\frac{2\\pi}{\\lambda} d (m-1) \\sin(\\theta_k)}+n_m(t)$$"
   ]
  },
  {
   "cell_type": "code",
   "execution_count": 3,
   "metadata": {},
   "outputs": [
    {
     "data": {
      "text/plain": [
       "(20, 100)"
      ]
     },
     "execution_count": 3,
     "metadata": {},
     "output_type": "execute_result"
    }
   ],
   "source": [
    "narrowband_signals = [narrowband_signal(k, w0) for k in range(n_sources)]\n",
    "received_signals = [received_signal(thetas, narrowband_signals, \n",
    "                                    mic_index=m+1, \n",
    "                                    main_frequency=main_frequency,\n",
    "                                    mic_distance=mic_distance, \n",
    "                                    noise_var=noise_var) for m in range(n_mics)]\n",
    "\n",
    "n_samples = 100\n",
    "\n",
    "sampled_received = np.zeros((len(received_signals), n_samples), dtype=np.csingle)\n",
    "\n",
    "for i, received in enumerate(received_signals):\n",
    "    for j in range(n_samples):\n",
    "        sampled_received[i, j] = received(j / fs)\n",
    "\n",
    "sampled_received.shape"
   ]
  },
  {
   "cell_type": "markdown",
   "metadata": {},
   "source": [
    "Directly with the samples in matrix form:\n",
    "\n",
    "Just like before, $x_m=0$ and $y_m=d\\cdot(m-1)$, so $A$ becomes a Vandermonde Matrix, namely:\n",
    "\n",
    "$$A_{m,k}=e^{-j \\frac{2\\pi}{\\lambda} d(m-1)\\sin(\\theta_k)}$$\n",
    "so with $\\varphi_k=-\\frac{2\\pi}{\\lambda}d\\sin(\\theta_k)$\n",
    "\n",
    "$$A = \\begin{pmatrix} 1 & 1 & ... & 1\\\\ e^{-j \\frac{2\\pi}{\\lambda} d\\sin(\\theta_1)}&e^{-j \\frac{2\\pi}{\\lambda} d\\sin(\\theta_2)}&...&e^{-j \\frac{2\\pi}{\\lambda} d\\sin(\\theta_D)} \\\\ ... \\\\  e^{-j \\frac{2\\pi}{\\lambda} d(M-1)\\sin(\\theta_1)}&e^{-j \\frac{2\\pi}{\\lambda} d(M-1)\\sin(\\theta_2)}&...&e^{-j \\frac{2\\pi}{\\lambda} d(M-1)\\sin(\\theta_D)}\\end{pmatrix}= \\begin{pmatrix} 1 & 1 & ... & 1\\\\ e^{j\\varphi_1}&e^{j \\varphi_2}&...&e^{j \\varphi_D} \\\\ ... \\\\  e^{j (M-1)\\varphi_1}&e^{j (M-1)\\varphi_2}&...&e^{j (M-1)\\varphi_D}\\end{pmatrix}$$\n"
   ]
  },
  {
   "cell_type": "code",
   "execution_count": 4,
   "metadata": {},
   "outputs": [],
   "source": [
    "phis = np.array([np.exp(-2j * np.pi * mic_distance * np.sin(theta) / wavelength) for theta in thetas])\n",
    "A = np.vander(phis, n_mics, increasing=True).T\n",
    "S = np.random.normal(0, 1, (n_sources, n_samples))\n",
    "noise_matrix = np.random.normal(0, noise_var, (n_mics, n_samples, 2)).view(np.complex128)\\\n",
    "                                    .reshape((n_mics, n_samples))\n",
    "\n",
    "sampled_received = (A @ S) + noise_matrix"
   ]
  },
  {
   "cell_type": "markdown",
   "metadata": {},
   "source": [
    "Note that both implementations are correct and give the same result as long as $S$ is represented by the same function as `narrowband_signal` and sampled the same way. Here, in the first example, $S_k(t)=f(k, t)e^{-j \\cdot \\omega_0 \\cdot t}$ where $f(k, t)$ is deterministic function of $k$ and $t$ whereas the samples in the second case are realisations or a Gaussian process with mean $0$ and variance $1$, so they are not actually the same in this case."
   ]
  },
  {
   "cell_type": "markdown",
   "metadata": {},
   "source": [
    "### Music implementation"
   ]
  },
  {
   "cell_type": "markdown",
   "metadata": {},
   "source": [
    "Finally, we test out implementation of MUSIC (found in the python files in the `src` folder) on our simulated data. It works well! "
   ]
  },
  {
   "cell_type": "code",
   "execution_count": 14,
   "metadata": {},
   "outputs": [
    {
     "name": "stdout",
     "output_type": "stream",
     "text": [
      "Samples shape: (20, 100)\n",
      "Covariance shape: (20, 20)\n"
     ]
    },
    {
     "data": {
      "image/png": "[encoded data removed]",
      "text/plain": [
       "<Figure size 640x480 with 1 Axes>"
      ]
     },
     "metadata": {},
     "output_type": "display_data"
    }
   ],
   "source": [
    "spectrum = music(sampled_received, n_sources, mic_coords, main_frequency)\n",
    "\n",
    "X = np.linspace(0, 2 * np.pi, 10000)\n",
    "Y = [spectrum(x) for x in X]\n",
    "\n",
    "plt.plot(X, Y)\n",
    "for theta in thetas:\n",
    "    plt.axvline(x=theta, color='red', linestyle=':', alpha=0.5)\n",
    "plt.show()"
   ]
  },
  {
   "cell_type": "markdown",
   "metadata": {},
   "source": [
    "Extract the frequencies from the peaks. Note that our method only works for theta in $\\left[0, \\frac{\\pi}{2} \\right]$ because of the symmetry of the complex exponential and sinus function."
   ]
  },
  {
   "cell_type": "code",
   "execution_count": 11,
   "metadata": {},
   "outputs": [
    {
     "name": "stdout",
     "output_type": "stream",
     "text": [
      "estimated thetas: [0.48993137 1.01630522]\n",
      "actual thetas:    [0.5 1. ]\n"
     ]
    }
   ],
   "source": [
    "estimated_thetas = extract_frequencies(spectrum, n_sources, [0, np.pi / 2])\n",
    "print('estimated thetas:', estimated_thetas)\n",
    "print('actual thetas:   ', thetas)"
   ]
  },
  {
   "cell_type": "markdown",
   "metadata": {},
   "source": [
    "## Real data"
   ]
  },
  {
   "cell_type": "markdown",
   "metadata": {},
   "source": [
    "# Results and Discussion"
   ]
  },
  {
   "cell_type": "markdown",
   "metadata": {},
   "source": [
    "## Advantages"
   ]
  },
  {
   "cell_type": "markdown",
   "metadata": {},
   "source": [
    "## Limitations"
   ]
  },
  {
   "cell_type": "markdown",
   "metadata": {},
   "source": [
    "# Advanced tools"
   ]
  },
  {
   "cell_type": "markdown",
   "metadata": {},
   "source": [
    "# Conclusion"
   ]
  },
  {
   "cell_type": "markdown",
   "metadata": {},
   "source": [
    "# Sources"
   ]
  },
  {
   "cell_type": "markdown",
   "metadata": {},
   "source": [
    "<a id='paper_1'></a>\n",
    "H. Tang. [DOA estimation based on MUSIC algorithm](https://www.semanticscholar.org/paper/Examensarbete-DOA-estimation-based-on-MUSIC-Tang-Nordebo/5ff7806b44e60d41c21429e1ad2755d72bba41d7?p2df)"
   ]
  },
  {
   "cell_type": "code",
   "execution_count": null,
   "metadata": {},
   "outputs": [],
   "source": []
  }
 ],
 "metadata": {
  "kernelspec": {
   "display_name": "Python 3 (ipykernel)",
   "language": "python",
   "name": "python3"
  },
  "language_info": {
   "codemirror_mode": {
    "name": "ipython",
    "version": 3
   },
   "file_extension": ".py",
   "mimetype": "text/x-python",
   "name": "python",
   "nbconvert_exporter": "python",
   "pygments_lexer": "ipython3",
   "version": "3.11.5"
  }
 },
 "nbformat": 4,
 "nbformat_minor": 2
}
