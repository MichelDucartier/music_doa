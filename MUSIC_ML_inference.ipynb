{
 "cells": [
  {
   "cell_type": "markdown",
   "metadata": {},
   "source": [
    "# Deep-Augmended MUSIC inference\n",
    "\n",
    "This is a notebook made for Deep-augmented MUSIC inference and testing"
   ]
  },
  {
   "cell_type": "code",
   "execution_count": 1,
   "metadata": {},
   "outputs": [],
   "source": [
    "import sys\n",
    "import numpy as np\n",
    "import matplotlib.pyplot as plt\n",
    "import torch\n",
    "import yaml\n",
    "from scipy.io import wavfile\n",
    "import IPython\n",
    "import pyroomacoustics as pra\n",
    "\n",
    "sys.path.append(\"src\")\n",
    "from src.deep.deep_music import DeepMUSIC, rmspe_loss, predict\n",
    "from src.deep.synthetic_data import load_microphones, create_dataset\n",
    "from src.music import music, extract_frequencies, SOUND_SPEED\n",
    "from src.music_advanced import music_with_frequency\n",
    "from scipy.signal import hilbert\n",
    "from tqdm.notebook import tqdm\n",
    "\n",
    "device = torch.device(\"cuda:0\" if torch.cuda.is_available() else \"cpu\")"
   ]
  },
  {
   "cell_type": "markdown",
   "metadata": {},
   "source": [
    "We create a small testing set"
   ]
  },
  {
   "cell_type": "code",
   "execution_count": 20,
   "metadata": {},
   "outputs": [
    {
     "name": "stderr",
     "output_type": "stream",
     "text": [
      "  0%|          | 0/100 [00:00<?, ?it/s]"
     ]
    },
    {
     "name": "stderr",
     "output_type": "stream",
     "text": [
      "100%|██████████| 100/100 [00:00<00:00, 2665.11it/s]\n"
     ]
    }
   ],
   "source": [
    "test_input, test_output, test_n_sources = create_dataset('test_coherent_dataset', 100, coherent=True)"
   ]
  },
  {
   "cell_type": "markdown",
   "metadata": {},
   "source": [
    "Import the model, you should store the model in the `models/` folder"
   ]
  },
  {
   "cell_type": "code",
   "execution_count": 3,
   "metadata": {},
   "outputs": [
    {
     "data": {
      "text/plain": [
       "DeepMUSIC(\n",
       "  (gru): GRU(48, 256)\n",
       "  (post_gru): Linear(in_features=256, out_features=1152, bias=True)\n",
       "  (neural_net): NeuralNet(\n",
       "    (linear_relu_stack): Sequential(\n",
       "      (0): Linear(in_features=1000, out_features=256, bias=True)\n",
       "      (1): GELU(approximate='none')\n",
       "      (2): Linear(in_features=256, out_features=256, bias=True)\n",
       "      (3): GELU(approximate='none')\n",
       "      (4): Linear(in_features=256, out_features=24, bias=True)\n",
       "    )\n",
       "  )\n",
       ")"
      ]
     },
     "execution_count": 3,
     "metadata": {},
     "output_type": "execute_result"
    }
   ],
   "source": [
    "mics_coords = torch.tensor(load_microphones()).to(device)\n",
    "\n",
    "# Load the model\n",
    "with open(\"conf/deep_music.yaml\") as stream:\n",
    "    try:\n",
    "        conf = yaml.safe_load(stream)\n",
    "    except yaml.YAMLError as exc:\n",
    "        print(exc)\n",
    "\n",
    "\n",
    "model = DeepMUSIC(mics_coords, conf)\n",
    "\n",
    "model_path = \"models/finetuned_model.pt\"\n",
    "model.load_state_dict(torch.load(model_path, map_location=device))\n",
    "model.to(device)\n",
    "model.eval()"
   ]
  },
  {
   "cell_type": "code",
   "execution_count": 4,
   "metadata": {},
   "outputs": [],
   "source": [
    "# fs, data = wavfile.read('res/arctic_a0010.wav')\n",
    "# data_variance = np.var(data)\n",
    "# display(IPython.display.Audio(data, rate=fs))\n",
    "\n",
    "# room_dim = np.r_[10.,10.]\n",
    "# distance = 3\n",
    "# sigma2 = data_variance * 0.1\n",
    "# aroom = pra.ShoeBox(room_dim, fs=fs, max_order=0, sigma2_awgn=sigma2)\n",
    "\n",
    "# # Adding the microphones\n",
    "\n",
    "# mics_coords = (mics_coords + room_dim / 2)\n",
    "# aroom.add_microphone_array(pra.MicrophoneArray(mics_coords.T, aroom.fs))\n",
    "\n",
    "# # Add sources of 1 second duration\n",
    "# doas = np.array([30, 80]) / 180. * np.pi\n",
    "\n",
    "# rng = np.random.RandomState(23)\n",
    "# duration_samples = 10000\n",
    "\n",
    "# for ang in doas:\n",
    "#     random_phase = np.random.uniform(0, 2 * np.pi)\n",
    "#     source_location = room_dim / 2 + distance * np.r_[np.cos(ang), np.sin(ang)]\n",
    "#     aroom.add_source(source_location, signal=data)\n",
    "\n",
    "# # Run the simulation\n",
    "# aroom.simulate()\n",
    "# aroom.plot()"
   ]
  },
  {
   "cell_type": "markdown",
   "metadata": {},
   "source": [
    "Inference for one sample. You can change the `ind` to test other samples of your testing set. In red-dotted line, you find the actual doas and the lines in blue represent the predicted doas."
   ]
  },
  {
   "cell_type": "code",
   "execution_count": 5,
   "metadata": {},
   "outputs": [
    {
     "name": "stdout",
     "output_type": "stream",
     "text": [
      "Sample loss : 0.03706805278802458\n"
     ]
    },
    {
     "data": {
      "image/png": "[encoded data removed]",
      "text/plain": [
       "<Figure size 432x288 with 1 Axes>"
      ]
     },
     "metadata": {
      "needs_background": "light"
     },
     "output_type": "display_data"
    }
   ],
   "source": [
    "ind = 0\n",
    "\n",
    "doas = test_output[ind]\n",
    "samples = test_input[ind]\n",
    "# samples = hilbert(aroom.mic_array.signals[:, :4000]).conj()\n",
    "# samples = aroom.mic_array.signals\n",
    "\n",
    "estimations, spectrum = predict(model, samples, 2)\n",
    "\n",
    "X = np.linspace(-90, 90, len(spectrum))\n",
    "plt.plot(X, spectrum)\n",
    "\n",
    "print(\"Sample loss :\", rmspe_loss(torch.tensor(estimations), doas, 2).item())\n",
    "\n",
    "\n",
    "plt.xlabel(\"Angle in degree\")\n",
    "plt.ylabel(\"Spectrum value\")\n",
    "\n",
    "for pred, true in zip(estimations, doas):\n",
    "    angle = (pred + np.pi/2) % (np.pi) - np.pi/2\n",
    "    plt.axvline(angle * 180 / np.pi, color='b', label='predicted')\n",
    "    angle = (true + np.pi/2) % (np.pi) - np.pi/2\n",
    "    plt.axvline(angle * 180 / np.pi, color='r', alpha=0.5, linestyle='--', label=\"true\")\n",
    "\n",
    "handles, labels = plt.gca().get_legend_handles_labels()\n",
    "by_label = dict(zip(labels, handles))\n",
    "plt.legend(by_label.values(), by_label.keys())\n",
    "plt.show()"
   ]
  },
  {
   "cell_type": "code",
   "execution_count": 6,
   "metadata": {},
   "outputs": [
    {
     "name": "stdout",
     "output_type": "stream",
     "text": [
      "Extracted frequencies : [ 1.1529645  -0.10995574]\n"
     ]
    },
    {
     "data": {
      "image/png": "[encoded data removed]",
      "text/plain": [
       "<Figure size 432x288 with 1 Axes>"
      ]
     },
     "metadata": {
      "needs_background": "light"
     },
     "output_type": "display_data"
    }
   ],
   "source": [
    "ind = 0\n",
    "\n",
    "doas = test_output[ind]\n",
    "samples = test_input[ind]\n",
    "\n",
    "spectrum = music(test_input[ind], 2, mics_coords.T, SOUND_SPEED / 2, correlated=True, verbose=False)\n",
    "\n",
    "# normalized_freq = 0.2\n",
    "# fs = SOUND_SPEED / (2 * normalized_freq)\n",
    "# length = 10\n",
    "# spectrum = music_with_frequency(test_input[ind].conj(), 2, fs, mics_coords.T, freq_range=[normalized_freq * fs - length, normalized_freq * fs + length], correlated=True)\n",
    "\n",
    "X = np.linspace(-90, 90, 1000)\n",
    "plt.plot(X, [spectrum((x / 180) * np.pi) for x in X])\n",
    "\n",
    "\n",
    "for pred, true in zip(estimations, doas):\n",
    "    angle = (true + np.pi/2) % (np.pi) - np.pi/2\n",
    "    plt.axvline(angle * 180 / np.pi, color='r', alpha=0.5, linestyle='--')\n",
    "\n",
    "print(\"Extracted frequencies :\", extract_frequencies(spectrum, 2, [-np.pi/2, np.pi/2], resolution=1000))\n",
    "\n",
    "plt.show()"
   ]
  },
  {
   "cell_type": "markdown",
   "metadata": {},
   "source": [
    "Compute the average test loss"
   ]
  },
  {
   "cell_type": "code",
   "execution_count": 21,
   "metadata": {},
   "outputs": [
    {
     "data": {
      "application/vnd.jupyter.widget-view+json": {
       "model_id": "e05d8f11fc7444f0ab491eba7556105c",
       "version_major": 2,
       "version_minor": 0
      },
      "text/plain": [
       "  0%|          | 0/100 [00:00<?, ?it/s]"
      ]
     },
     "metadata": {},
     "output_type": "display_data"
    },
    {
     "name": "stdout",
     "output_type": "stream",
     "text": [
      "Average test loss for DA-MUSIC : 0.05574516508531421\n"
     ]
    }
   ],
   "source": [
    "def compute_test_loss(test_input, test_output, n_sources):\n",
    "    losses = np.zeros(len(test_input))\n",
    "\n",
    "    for i, (a, doas) in tqdm(list(enumerate(zip(test_input, test_output)))):\n",
    "        predicted, _ = predict(model, a, n_sources)\n",
    "        losses[i] = rmspe_loss(torch.tensor(predicted), torch.tensor(doas), n_sources)\n",
    "\n",
    "    return np.mean(losses)\n",
    "\n",
    "print(\"Average test loss for DA-MUSIC :\", compute_test_loss(test_input, test_output, 2))"
   ]
  },
  {
   "cell_type": "code",
   "execution_count": 33,
   "metadata": {},
   "outputs": [
    {
     "data": {
      "application/vnd.jupyter.widget-view+json": {
       "model_id": "1a6210f90e02449fb16c69d8c6b6f55a",
       "version_major": 2,
       "version_minor": 0
      },
      "text/plain": [
       "  0%|          | 0/100 [00:00<?, ?it/s]"
      ]
     },
     "metadata": {},
     "output_type": "display_data"
    },
    {
     "name": "stdout",
     "output_type": "stream",
     "text": [
      "Average test loss for MUSIC : 0.5048770756921322\n"
     ]
    }
   ],
   "source": [
    "def compute_standard_music_test_loss(test_input, test_output, n_sources):\n",
    "    losses = np.zeros(len(test_input))\n",
    "\n",
    "    for i, (a, doas) in tqdm(list(enumerate(zip(test_input, test_output)))):\n",
    "        # spectrum = music(a, n_sources, mics_coords.T, SOUND_SPEED / 2, correlated=False, verbose=False)\n",
    "\n",
    "        # normalized_freq = 0.2\n",
    "        # fs = SOUND_SPEED / (2 * normalized_freq)\n",
    "        # length = 100\n",
    "        # spectrum = music_with_frequency(a.conj(), 2, fs, mics_coords.T, freq_range=[normalized_freq * fs - length, normalized_freq * fs + length], verbose=False, correlated=False)\n",
    "        \n",
    "\n",
    "        # predicted = extract_frequencies(spectrum, n_sources, [-np.pi/2, np.pi/2], resolution=1000)\n",
    "        predicted = np.random.uniform(-np.pi / 2, np.pi / 2, size=2)\n",
    "        \n",
    "        if len(predicted) == 1:\n",
    "            predicted = np.array([predicted, predicted])\n",
    "\n",
    "        losses[i] = rmspe_loss(torch.tensor(predicted), torch.tensor(doas), n_sources)\n",
    "\n",
    "    return np.mean(losses)\n",
    "\n",
    "print(\"Average test loss for MUSIC :\", compute_standard_music_test_loss(test_input, test_output, 2))"
   ]
  }
 ],
 "metadata": {
  "kernelspec": {
   "display_name": "Python 3 (ipykernel)",
   "language": "python",
   "name": "python3"
  },
  "language_info": {
   "codemirror_mode": {
    "name": "ipython",
    "version": 3
   },
   "file_extension": ".py",
   "mimetype": "text/x-python",
   "name": "python",
   "nbconvert_exporter": "python",
   "pygments_lexer": "ipython3",
   "version": "3.10.0"
  }
 },
 "nbformat": 4,
 "nbformat_minor": 2
}
