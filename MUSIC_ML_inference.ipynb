{
 "cells": [
  {
   "cell_type": "markdown",
   "metadata": {},
   "source": [
    "# Deep-Augmended MUSIC inference\n",
    "\n",
    "This is a notebook made for Deep-augmented MUSIC inference and testing"
   ]
  },
  {
   "cell_type": "code",
   "execution_count": 1,
   "metadata": {},
   "outputs": [],
   "source": [
    "import sys\n",
    "import numpy as np\n",
    "import matplotlib.pyplot as plt\n",
    "import torch\n",
    "import yaml\n",
    "\n",
    "sys.path.append(\"src\")\n",
    "from src.deep.deep_music import DeepMUSIC, rmspe_loss, predict\n",
    "from src.deep.synthetic_data import load_microphones, create_dataset\n",
    "\n",
    "device = torch.device(\"cuda:0\" if torch.cuda.is_available() else \"cpu\")"
   ]
  },
  {
   "cell_type": "markdown",
   "metadata": {},
   "source": [
    "We create a small testing set"
   ]
  },
  {
   "cell_type": "code",
   "execution_count": 2,
   "metadata": {},
   "outputs": [
    {
     "name": "stderr",
     "output_type": "stream",
     "text": [
      "  0%|          | 0/200 [00:00<?, ?it/s]"
     ]
    },
    {
     "name": "stderr",
     "output_type": "stream",
     "text": [
      "100%|██████████| 200/200 [00:00<00:00, 1608.10it/s]\n"
     ]
    }
   ],
   "source": [
    "test_input, test_output, test_n_sources = create_dataset('test_coherent_dataset', 200, coherent=True)"
   ]
  },
  {
   "cell_type": "markdown",
   "metadata": {},
   "source": [
    "Import the model, you should store the model in the `models/` folder"
   ]
  },
  {
   "cell_type": "code",
   "execution_count": 3,
   "metadata": {},
   "outputs": [
    {
     "data": {
      "text/plain": [
       "DeepMUSIC(\n",
       "  (gru): GRU(48, 256)\n",
       "  (post_gru): Linear(in_features=256, out_features=1152, bias=True)\n",
       "  (neural_net): NeuralNet(\n",
       "    (linear_relu_stack): Sequential(\n",
       "      (0): Linear(in_features=1000, out_features=256, bias=True)\n",
       "      (1): GELU(approximate='none')\n",
       "      (2): Linear(in_features=256, out_features=256, bias=True)\n",
       "      (3): GELU(approximate='none')\n",
       "      (4): Linear(in_features=256, out_features=24, bias=True)\n",
       "    )\n",
       "  )\n",
       ")"
      ]
     },
     "execution_count": 3,
     "metadata": {},
     "output_type": "execute_result"
    }
   ],
   "source": [
    "mics_coords = torch.tensor(load_microphones()).to(device)\n",
    "\n",
    "# Load the model\n",
    "with open(\"conf/deep_music.yaml\") as stream:\n",
    "    try:\n",
    "        conf = yaml.safe_load(stream)\n",
    "    except yaml.YAMLError as exc:\n",
    "        print(exc)\n",
    "\n",
    "\n",
    "model = DeepMUSIC(mics_coords, conf)\n",
    "\n",
    "model_path = \"models/finetuned_model.pt\"\n",
    "model.load_state_dict(torch.load(model_path, map_location=device))\n",
    "model.to(device)\n",
    "model.eval()"
   ]
  },
  {
   "cell_type": "markdown",
   "metadata": {},
   "source": [
    "Inference for one sample. You can change the `ind` to test other samples of your testing set. In red-dotted line, you find the actual doas and the lines in blue represent the predicted doas."
   ]
  },
  {
   "cell_type": "code",
   "execution_count": 4,
   "metadata": {},
   "outputs": [
    {
     "name": "stdout",
     "output_type": "stream",
     "text": [
      "Sample loss : 0.046414108190914974\n"
     ]
    },
    {
     "data": {
      "image/png": "[encoded data removed]",
      "text/plain": [
       "<Figure size 432x288 with 1 Axes>"
      ]
     },
     "metadata": {
      "needs_background": "light"
     },
     "output_type": "display_data"
    }
   ],
   "source": [
    "ind = 0\n",
    "\n",
    "estimations, spectrum = predict(model, test_input[ind], 2)\n",
    "doas = test_output[ind]\n",
    "\n",
    "X = np.linspace(-90, 90, len(spectrum))\n",
    "plt.plot(X, spectrum)\n",
    "\n",
    "print(\"Sample loss :\", rmspe_loss(torch.tensor(estimations), doas, 2).item())\n",
    "\n",
    "\n",
    "plt.xlabel(\"Angle in degree\")\n",
    "plt.ylabel(\"Spectrum value\")\n",
    "\n",
    "for pred, true in zip(estimations, doas):\n",
    "  angle = (pred + np.pi/2) % (np.pi) - np.pi/2\n",
    "  plt.axvline(angle * 180 / np.pi, color='b')\n",
    "  angle = (true + np.pi/2) % (np.pi) - np.pi/2\n",
    "  plt.axvline(angle * 180 / np.pi, color='r', alpha=0.5, linestyle='--')"
   ]
  },
  {
   "cell_type": "markdown",
   "metadata": {},
   "source": [
    "Compute the average test loss"
   ]
  },
  {
   "cell_type": "code",
   "execution_count": 5,
   "metadata": {},
   "outputs": [
    {
     "name": "stdout",
     "output_type": "stream",
     "text": [
      "Average test loss : 0.05251652051060437\n"
     ]
    }
   ],
   "source": [
    "def compute_test_loss(test_input, test_output, n_sources):\n",
    "  losses = np.zeros(len(test_input))\n",
    "\n",
    "  for i, (a, doas) in enumerate(zip(test_input, test_output)):\n",
    "    predicted, _ = predict(model, a, n_sources)\n",
    "    losses[i] = rmspe_loss(torch.tensor(predicted), torch.tensor(doas), n_sources)\n",
    "\n",
    "  return np.mean(losses)\n",
    "\n",
    "print(\"Average test loss :\", compute_test_loss(test_input, test_output, 2))"
   ]
  }
 ],
 "metadata": {
  "kernelspec": {
   "display_name": "Python 3",
   "language": "python",
   "name": "python3"
  },
  "language_info": {
   "codemirror_mode": {
    "name": "ipython",
    "version": 3
   },
   "file_extension": ".py",
   "mimetype": "text/x-python",
   "name": "python",
   "nbconvert_exporter": "python",
   "pygments_lexer": "ipython3",
   "version": "3.10.0"
  }
 },
 "nbformat": 4,
 "nbformat_minor": 2
}
