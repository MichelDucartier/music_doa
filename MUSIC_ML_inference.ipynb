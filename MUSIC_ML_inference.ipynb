{
 "cells": [
  {
   "cell_type": "code",
   "execution_count": 1,
   "metadata": {},
   "outputs": [],
   "source": [
    "import sys\n",
    "import numpy as np\n",
    "import matplotlib.pyplot as plt\n",
    "import torch\n",
    "import yaml\n",
    "\n",
    "sys.path.append(\"src\")\n",
    "from src.deep.deep_music import DeepMUSIC, rmspe_loss, predict\n",
    "from src.deep.synthetic_data import load_microphones, create_dataset\n",
    "\n",
    "device = torch.device(\"cuda:0\" if torch.cuda.is_available() else \"cpu\")"
   ]
  },
  {
   "cell_type": "code",
   "execution_count": 10,
   "metadata": {},
   "outputs": [
    {
     "name": "stderr",
     "output_type": "stream",
     "text": [
      "100%|██████████| 100/100 [00:00<00:00, 2857.56it/s]\n"
     ]
    }
   ],
   "source": [
    "test_input, test_output, test_n_sources = create_dataset('test_coherent_dataset', 100, coherent=True)"
   ]
  },
  {
   "cell_type": "code",
   "execution_count": 11,
   "metadata": {},
   "outputs": [
    {
     "data": {
      "text/plain": [
       "DeepMUSIC(\n",
       "  (gru): GRU(48, 256)\n",
       "  (post_gru): Linear(in_features=256, out_features=1152, bias=True)\n",
       "  (neural_net): NeuralNet(\n",
       "    (linear_relu_stack): Sequential(\n",
       "      (0): Linear(in_features=1000, out_features=256, bias=True)\n",
       "      (1): GELU(approximate='none')\n",
       "      (2): Linear(in_features=256, out_features=256, bias=True)\n",
       "      (3): GELU(approximate='none')\n",
       "      (4): Linear(in_features=256, out_features=24, bias=True)\n",
       "    )\n",
       "  )\n",
       ")"
      ]
     },
     "execution_count": 11,
     "metadata": {},
     "output_type": "execute_result"
    }
   ],
   "source": [
    "mics_coords = torch.tensor(load_microphones()).to(device)\n",
    "\n",
    "# Load the model\n",
    "with open(\"conf/deep_music.yaml\") as stream:\n",
    "    try:\n",
    "        conf = yaml.safe_load(stream)\n",
    "    except yaml.YAMLError as exc:\n",
    "        print(exc)\n",
    "\n",
    "\n",
    "model = DeepMUSIC(mics_coords, conf)\n",
    "\n",
    "model_path = \"checkpoints/model-epoch-5.pt\"\n",
    "model.load_state_dict(torch.load(model_path, map_location=device))\n",
    "model.to(device)\n",
    "model.eval()"
   ]
  },
  {
   "cell_type": "code",
   "execution_count": 13,
   "metadata": {},
   "outputs": [
    {
     "name": "stdout",
     "output_type": "stream",
     "text": [
      "tensor(0.2100, dtype=torch.float64)\n"
     ]
    },
    {
     "data": {
      "image/png": "[encoded data removed]",
      "text/plain": [
       "<Figure size 432x288 with 1 Axes>"
      ]
     },
     "metadata": {
      "needs_background": "light"
     },
     "output_type": "display_data"
    }
   ],
   "source": [
    "ind = 0\n",
    "\n",
    "estimations, spectrum = predict(model, test_input[ind], 2)\n",
    "doas = test_output[ind]\n",
    "\n",
    "X = np.linspace(-90, 90, len(spectrum))\n",
    "plt.plot(X, spectrum)\n",
    "\n",
    "print(rmspe_loss(torch.tensor(estimations), doas, 2))\n",
    "\n",
    "for pred, true in zip(estimations, doas):\n",
    "  angle = (true + np.pi/2) % (np.pi) - np.pi/2\n",
    "  plt.axvline(angle * 180 / np.pi, color='r', alpha=0.5, linestyle='--')\n",
    "  angle = (pred + np.pi/2) % (np.pi) - np.pi/2\n",
    "  plt.axvline(angle * 180 / np.pi, color='b')"
   ]
  },
  {
   "cell_type": "code",
   "execution_count": 14,
   "metadata": {},
   "outputs": [
    {
     "data": {
      "text/plain": [
       "0.1870417785133375"
      ]
     },
     "execution_count": 14,
     "metadata": {},
     "output_type": "execute_result"
    }
   ],
   "source": [
    "def compute_test_loss(test_input, test_output, n_sources):\n",
    "  losses = np.zeros(len(test_input))\n",
    "\n",
    "  for i, (a, doas) in enumerate(zip(test_input, test_output)):\n",
    "    predicted, _ = predict(model, a, n_sources)\n",
    "    losses[i] = rmspe_loss(torch.tensor(predicted), torch.tensor(doas), n_sources)\n",
    "\n",
    "  return np.mean(losses)\n",
    "\n",
    "compute_test_loss(test_input, test_output, 2)"
   ]
  }
 ],
 "metadata": {
  "kernelspec": {
   "display_name": "Python 3",
   "language": "python",
   "name": "python3"
  },
  "language_info": {
   "codemirror_mode": {
    "name": "ipython",
    "version": 3
   },
   "file_extension": ".py",
   "mimetype": "text/x-python",
   "name": "python",
   "nbconvert_exporter": "python",
   "pygments_lexer": "ipython3",
   "version": "3.10.0"
  }
 },
 "nbformat": 4,
 "nbformat_minor": 2
}
