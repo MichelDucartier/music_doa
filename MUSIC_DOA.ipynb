{
 "cells": [
  {
   "cell_type": "markdown",
   "metadata": {},
   "source": [
    "# MUSIC for Direction of Arrival\n",
    "\n",
    "This notebook is a demo of MUSIC for Direction of Arrival\n",
    "\n",
    "## Test on simulated data"
   ]
  },
  {
   "cell_type": "code",
   "execution_count": 1,
   "metadata": {},
   "outputs": [],
   "source": [
    "import numpy as np\n",
    "import matplotlib.pyplot as plt\n",
    "import math\n",
    "from scipy.signal import find_peaks"
   ]
  },
  {
   "cell_type": "code",
   "execution_count": 2,
   "metadata": {},
   "outputs": [],
   "source": [
    "# Constants\n",
    "thetas = np.array([0.5, 1]) # in radians (should be in [0, pi/2])\n",
    "n_sources = len(thetas)\n",
    "w0 = np.pi / 4\n",
    "n_mics = 20\n",
    "mic_distance = 1\n",
    "wavelength = 1\n",
    "noise_var = 1\n",
    "fs = 1"
   ]
  },
  {
   "cell_type": "markdown",
   "metadata": {},
   "source": [
    "### Craft the signal\n",
    "\n",
    "We create 2 ways of crafting a simulated signal:\n",
    "1. With a simulated function that we sample\n",
    "2. Directly with the matrices containing the samples of our function\n",
    "\n",
    "\n",
    "With the function:"
   ]
  },
  {
   "cell_type": "code",
   "execution_count": 3,
   "metadata": {},
   "outputs": [],
   "source": [
    "def narrowband_signal(k, w0):    \n",
    "    def helper(t):\n",
    "        # Use a hash as a seed to ensure that if (k1, t1) = (k2, t2), then we give the exact result\n",
    "        rng = np.random.RandomState(hash((k, t)) & 0xffffffff)\n",
    "        return rng.randn() * np.exp(-1j * w0 * t)\n",
    "    return helper\n",
    "\n",
    "def received_signal(thetas, narrowband_signals, mic_index, mic_distance=0.2, noise_var=0, wavelength=1):\n",
    "    def helper(t):\n",
    "        signal = 0\n",
    "        for theta, narrowband in zip(thetas, narrowband_signals):\n",
    "            phase = np.exp(-2j * np.pi * (mic_index - 1) * mic_distance * np.sin(theta) / wavelength)\n",
    "            signal += narrowband(t) * phase\n",
    "            \n",
    "        return signal + np.random.normal(size=2, scale=noise_var).view(np.complex128)[0]\n",
    "    \n",
    "    return helper"
   ]
  },
  {
   "cell_type": "code",
   "execution_count": 8,
   "metadata": {},
   "outputs": [
    {
     "data": {
      "text/plain": [
       "(20, 100)"
      ]
     },
     "execution_count": 8,
     "metadata": {},
     "output_type": "execute_result"
    }
   ],
   "source": [
    "narrowband_signals = [narrowband_signal(k, w0) for k in range(n_sources)]\n",
    "received_signals = [received_signal(thetas, narrowband_signals, m+1, \n",
    "                                    mic_distance=mic_distance, noise_var=noise_var, wavelength=wavelength) for m in range(n_mics)]\n",
    "\n",
    "n_samples = 100\n",
    "\n",
    "sampled_received = np.zeros((len(received_signals), n_samples), dtype=np.csingle)\n",
    "\n",
    "for i, received in enumerate(received_signals):\n",
    "    for j in range(n_samples):\n",
    "        sampled_received[i, j] = received(j / fs)\n",
    "\n",
    "sampled_received.shape"
   ]
  },
  {
   "cell_type": "markdown",
   "metadata": {},
   "source": [
    "Directly with the samples:"
   ]
  },
  {
   "cell_type": "code",
   "execution_count": 5,
   "metadata": {},
   "outputs": [],
   "source": [
    "phis = np.array([np.exp(-2j * np.pi * mic_distance * np.sin(theta) / wavelength) for theta in thetas])\n",
    "A = np.vander(phis, n_mics, increasing=True).T\n",
    "S = np.random.normal(0, 1, (n_sources, n_samples))\n",
    "noise_matrix = np.random.normal(0, noise_var, (n_mics, n_samples, 2)).view(np.complex128).reshape((n_mics, n_samples))\n",
    "\n",
    "sampled_received = (A @ S) + noise_matrix "
   ]
  },
  {
   "cell_type": "markdown",
   "metadata": {},
   "source": [
    "### Music implementation"
   ]
  },
  {
   "cell_type": "code",
   "execution_count": 6,
   "metadata": {},
   "outputs": [],
   "source": [
    "def music(samples, n_sources):\n",
    "    M = len(samples)\n",
    "    \n",
    "    samples = (samples.T - samples.mean(axis=1).T).T\n",
    "\n",
    "    print('Samples shape:', samples.shape)\n",
    "    covariance = samples @ samples.conj().T / M\n",
    "    print(\"Covariance shape:\", covariance.shape)\n",
    "        \n",
    "    eigenvalues, eigenvectors = np.linalg.eig(covariance)\n",
    "        \n",
    "    indices = np.argsort(eigenvalues)\n",
    "    eigenvalues, eigenvectors = eigenvalues[indices], eigenvectors[:, indices]\n",
    "    \n",
    "    # Decompose signal and noise\n",
    "    # Assumption : the noise has the smallest eigenvalues\n",
    "    signal_eigenvalues, signal_eigenvectors = eigenvalues[-n_sources :], eigenvectors[:, -n_sources :]\n",
    "    noise_eigenvalues, noise_eigenvectors = eigenvalues[: -n_sources], eigenvectors[:, : -n_sources]\n",
    "    \n",
    "    return signal_eigenvalues, signal_eigenvectors, noise_eigenvalues, noise_eigenvectors"
   ]
  },
  {
   "cell_type": "code",
   "execution_count": 9,
   "metadata": {},
   "outputs": [
    {
     "name": "stdout",
     "output_type": "stream",
     "text": [
      "Samples shape: (20, 100)\n",
      "Covariance shape: (20, 20)\n"
     ]
    }
   ],
   "source": [
    "signal_eigenvalues, signal_eigenvectors, noise_eigenvalues, noise_eigenvectors = music(sampled_received, n_sources)"
   ]
  },
  {
   "cell_type": "code",
   "execution_count": 10,
   "metadata": {},
   "outputs": [],
   "source": [
    "def spectrum_function(noise_eigenvectors, mic_distance, wavelength):    \n",
    "    M = noise_eigenvectors.shape[0]\n",
    "    def helper(sin_value):\n",
    "        phi = 2 * np.pi * mic_distance * sin_value / wavelength\n",
    "        x = [np.exp(-1j*phi)]\n",
    "        a = np.vander(x, M, increasing=True)\n",
    "        temp = a.conj() @ noise_eigenvectors\n",
    "        \n",
    "        return 1 / np.linalg.norm(temp)**2\n",
    "    \n",
    "    return helper"
   ]
  },
  {
   "cell_type": "code",
   "execution_count": 11,
   "metadata": {},
   "outputs": [
    {
     "data": {
      "image/png": "[encoded data removed]",
      "text/plain": [
       "<Figure size 432x288 with 1 Axes>"
      ]
     },
     "metadata": {
      "needs_background": "light"
     },
     "output_type": "display_data"
    }
   ],
   "source": [
    "spectrum = spectrum_function(noise_eigenvectors, mic_distance=mic_distance, wavelength=wavelength)\n",
    "\n",
    "X = np.linspace(-1, 1, 10000)\n",
    "Y = [spectrum(x) for x in X]\n",
    "\n",
    "plt.plot(X, Y)\n",
    "for theta in thetas:\n",
    "    plt.axvline(x=np.sin(theta), color='red', linestyle=':', alpha=0.5)\n",
    "plt.show()"
   ]
  },
  {
   "cell_type": "markdown",
   "metadata": {},
   "source": [
    "Extract the frequencies from the peaks. Note that our method only works for theta in $\\left[0, \\frac{\\pi}{2} \\right]$ because of the symmetry of the complex exponential and sinus function."
   ]
  },
  {
   "cell_type": "code",
   "execution_count": 12,
   "metadata": {},
   "outputs": [],
   "source": [
    "def extract_frequencies(spectrum, n_sources, input_range, resolution=1000):\n",
    "    X = np.linspace(input_range[0], input_range[1], resolution)\n",
    "    Y = np.array([spectrum(x) for x in X])\n",
    "    \n",
    "    threshold = np.sort(Y)[int(0.8 * resolution)]\n",
    "    \n",
    "    peak_indices, _ = find_peaks(Y, threshold)\n",
    "    indices = np.argsort(Y[peak_indices])[-n_sources:]  # Sort peak indices by y value and take the top num_peaks    \n",
    "    estimated_freq = peak_indices[indices]\n",
    "    \n",
    "    return (estimated_freq / resolution) * (input_range[1] - input_range[0]) + input_range[0]"
   ]
  },
  {
   "cell_type": "code",
   "execution_count": 13,
   "metadata": {},
   "outputs": [
    {
     "name": "stdout",
     "output_type": "stream",
     "text": [
      "[0.4983763268163839, 0.9991288847176136]\n"
     ]
    }
   ],
   "source": [
    "sin_values = extract_frequencies(spectrum, n_sources, [0, 1])\n",
    "estimated_thetas = []\n",
    "for sv in sin_values:\n",
    "    estimated_thetas.append(np.arcsin(sv))\n",
    "\n",
    "print(estimated_thetas)"
   ]
  }
 ],
 "metadata": {
  "kernelspec": {
   "display_name": "Python 3",
   "language": "python",
   "name": "python3"
  },
  "language_info": {
   "codemirror_mode": {
    "name": "ipython",
    "version": 3
   },
   "file_extension": ".py",
   "mimetype": "text/x-python",
   "name": "python",
   "nbconvert_exporter": "python",
   "pygments_lexer": "ipython3",
   "version": "3.10.0"
  }
 },
 "nbformat": 4,
 "nbformat_minor": 2
}
