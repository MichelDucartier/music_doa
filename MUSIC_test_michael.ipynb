{
 "cells": [
  {
   "cell_type": "code",
   "execution_count": 1,
   "id": "bf5709eb-d9af-4ff6-a7fe-274b1683bcfa",
   "metadata": {
    "tags": []
   },
   "outputs": [],
   "source": [
    "import numpy as np\n",
    "import matplotlib.pyplot as plt\n",
    "import math\n",
    "from scipy.signal import find_peaks"
   ]
  },
  {
   "cell_type": "code",
   "execution_count": 53,
   "id": "df79b7d7",
   "metadata": {},
   "outputs": [],
   "source": [
    "# Constants\n",
    "radius = 4\n",
    "thetas = np.array([0.2, np.pi / 2]) # in radians (should be in [0, pi/2])\n",
    "source_locations = np.array([4 * np.array([np.cos(t), np.sin(t)]) for t in thetas])\n",
    "n_sources = len(thetas)\n",
    "w0 = np.pi / 4\n",
    "n_mics = 20\n",
    "mic_distance = 1\n",
    "wavelength = 1\n",
    "noise_var = 0.5\n",
    "fs = 1\n",
    "n_samples = 100"
   ]
  },
  {
   "cell_type": "code",
   "execution_count": 54,
   "id": "b0ad4ba4-5d54-4e52-9cbe-84d2a63a9ba5",
   "metadata": {
    "tags": []
   },
   "outputs": [
    {
     "data": {
      "image/png": "[encoded data removed]",
      "text/plain": [
       "<Figure size 432x288 with 1 Axes>"
      ]
     },
     "metadata": {
      "needs_background": "light"
     },
     "output_type": "display_data"
    }
   ],
   "source": [
    "import json\n",
    "\n",
    "with open('../music_doa/last_year/protocol.json') as json_file:  \n",
    "    protocol = json.load(json_file)\n",
    "    \n",
    "microphone_3D_locations = np.array(protocol['geometry']['microphones']['locations'])\n",
    "top_mics = np.isclose(microphone_3D_locations[:,2], 0.06123724)\n",
    "microphone_2D_locations = microphone_3D_locations[top_mics, :2]\n",
    "\n",
    "plt.scatter(microphone_2D_locations[:, 0], microphone_2D_locations[:, 1])\n",
    "plt.show()"
   ]
  },
  {
   "cell_type": "markdown",
   "id": "c86eea05-cf37-4327-813d-da4a157d6577",
   "metadata": {},
   "source": [
    "## Crafting the signal"
   ]
  },
  {
   "cell_type": "code",
   "execution_count": 55,
   "id": "f4296c64-0b14-4d6d-ae15-af9379eaea1e",
   "metadata": {
    "tags": []
   },
   "outputs": [],
   "source": [
    "def narrowband_signal(k, w0):    \n",
    "    def helper(t):\n",
    "        # Use a hash as a seed to ensure that if (k1, t1) = (k2, t2), then we give the exact result\n",
    "        rng = np.random.RandomState(hash((k, t)) & 0xffffffff)\n",
    "        return rng.randn() * np.exp(-1j * w0 * t)\n",
    "    return helper\n",
    "\n",
    "def received_signal(source_locations, narrowband_signals, mic_coords, noise_var=0, wavelength=1):\n",
    "    def helper(t):\n",
    "        signal = 0\n",
    "        for source_coords, narrowband in zip(source_locations, narrowband_signals):\n",
    "            atheta = np.exp(1j * 2 * np.pi / wavelength * np.linalg.norm(mic_coords - source_coords))\n",
    "            signal += narrowband(t) * atheta\n",
    "            \n",
    "        return signal + np.random.normal(size=2, scale=noise_var).view(np.complex128)[0]\n",
    "    \n",
    "    return helper"
   ]
  },
  {
   "cell_type": "code",
   "execution_count": 56,
   "id": "a496d14d",
   "metadata": {},
   "outputs": [
    {
     "data": {
      "text/plain": [
       "(24, 100)"
      ]
     },
     "execution_count": 56,
     "metadata": {},
     "output_type": "execute_result"
    }
   ],
   "source": [
    "narrowband_signals = [narrowband_signal(k, w0) for k in range(n_sources)]\n",
    "received_signals = [received_signal(source_locations, narrowband_signals, mic_coords, noise_var=noise_var, wavelength=wavelength) for mic_coords in microphone_2D_locations]\n",
    "\n",
    "sampled_received = np.zeros((len(received_signals), n_samples), dtype=np.csingle)\n",
    "\n",
    "for i, received in enumerate(received_signals):\n",
    "    for j in range(n_samples):\n",
    "        sampled_received[i, j] = received(j / fs)\n",
    "\n",
    "sampled_received.shape"
   ]
  },
  {
   "cell_type": "code",
   "execution_count": 57,
   "id": "a262354b-eee2-4b17-98a2-68a702e62b03",
   "metadata": {
    "tags": []
   },
   "outputs": [],
   "source": [
    "def music(samples, n_sources):\n",
    "    M = len(samples)\n",
    "    \n",
    "    samples = (samples.T - samples.mean(axis=1).T).T\n",
    "\n",
    "    print('Samples shape:', samples.shape)\n",
    "    covariance = samples @ samples.conj().T / M\n",
    "    print(\"Covariance shape:\", covariance.shape)\n",
    "        \n",
    "    eigenvalues, eigenvectors = np.linalg.eig(covariance)\n",
    "        \n",
    "    indices = np.argsort(eigenvalues)\n",
    "    eigenvalues, eigenvectors = eigenvalues[indices], eigenvectors[:, indices]\n",
    "    \n",
    "    # Decompose signal and noise\n",
    "    # Assumption : the noise has the smallest eigenvalues\n",
    "    signal_eigenvalues, signal_eigenvectors = eigenvalues[-n_sources :], eigenvectors[:, -n_sources :]\n",
    "    noise_eigenvalues, noise_eigenvectors = eigenvalues[: -n_sources], eigenvectors[:, : -n_sources]\n",
    "    \n",
    "    return signal_eigenvalues, signal_eigenvectors, noise_eigenvalues, noise_eigenvectors\n",
    "\n",
    "\n",
    "def general_spectrum_function(noise_eigenvectors, mic_locations, wavelength):\n",
    "    M = noise_eigenvectors.shape[0]\n",
    "    def helper(theta):\n",
    "        a = np.array([np.cos(theta), np.sin(theta)])\n",
    "        atheta = np.exp(-1j * 2 * np.pi / wavelength * np.dot(mic_locations, a))\n",
    "        temp = atheta.conj() @ noise_eigenvectors\n",
    "        \n",
    "        return 1 / np.linalg.norm(temp)**2\n",
    "    \n",
    "    return helper"
   ]
  },
  {
   "cell_type": "code",
   "execution_count": 59,
   "id": "4d7d4ffc-d555-4a79-87d7-c86e56438ef9",
   "metadata": {
    "tags": []
   },
   "outputs": [
    {
     "name": "stdout",
     "output_type": "stream",
     "text": [
      "Samples shape: (24, 100)\n",
      "Covariance shape: (24, 24)\n"
     ]
    },
    {
     "data": {
      "image/png": "[encoded data removed]",
      "text/plain": [
       "<Figure size 432x288 with 1 Axes>"
      ]
     },
     "metadata": {
      "needs_background": "light"
     },
     "output_type": "display_data"
    }
   ],
   "source": [
    "signal_eigenvalues, signal_eigenvectors, noise_eigenvalues, noise_eigenvectors = music(sampled_received, n_sources)\n",
    "spectrum = general_spectrum_function(noise_eigenvectors, microphone_2D_locations, wavelength)\n",
    "\n",
    "X = np.linspace(-2 * np.pi, 2 * np.pi, 10000)\n",
    "Y = [spectrum(x) for x in X]\n",
    "\n",
    "plt.plot(X, Y)\n",
    "for theta in thetas:\n",
    "    plt.axvline(x=theta, color='red', linestyle=':', alpha=0.5)\n",
    "plt.show()"
   ]
  },
  {
   "cell_type": "code",
   "execution_count": 60,
   "id": "6675aa7e-48b3-4b02-9367-3f9eadca6575",
   "metadata": {
    "tags": []
   },
   "outputs": [
    {
     "data": {
      "image/png": "[encoded data removed]",
      "text/plain": [
       "<Figure size 432x288 with 1 Axes>"
      ]
     },
     "metadata": {
      "needs_background": "light"
     },
     "output_type": "display_data"
    }
   ],
   "source": [
    "plt.scatter(*source_locations.T)\n",
    "plt.scatter(*microphone_2D_locations.T)\n",
    "plt.axis('equal')\n",
    "plt.show()"
   ]
  },
  {
   "cell_type": "code",
   "execution_count": 61,
   "id": "464db2d9",
   "metadata": {},
   "outputs": [],
   "source": [
    "def extract_frequencies(spectrum, n_sources, input_range, resolution=10000):\n",
    "    X = np.linspace(input_range[0], input_range[1], resolution)\n",
    "    Y = np.array([spectrum(x) for x in X])\n",
    "    \n",
    "    threshold = np.sort(Y)[int(0.8 * resolution)]\n",
    "    \n",
    "    peak_indices, _ = find_peaks(Y, threshold)\n",
    "    indices = np.argsort(Y[peak_indices])[-n_sources:]  # Sort peak indices by y value and take the top num_peaks    \n",
    "    estimated_freq = peak_indices[indices]\n",
    "    \n",
    "    return (estimated_freq / resolution) * (input_range[1] - input_range[0]) + input_range[0]"
   ]
  },
  {
   "cell_type": "code",
   "execution_count": 62,
   "id": "25aa8068",
   "metadata": {},
   "outputs": [
    {
     "data": {
      "text/plain": [
       "array([0.18880972, 1.48660164])"
      ]
     },
     "execution_count": 62,
     "metadata": {},
     "output_type": "execute_result"
    }
   ],
   "source": [
    "estimated_thetas = extract_frequencies(spectrum, n_sources, [0, np.pi])\n",
    "estimated_thetas"
   ]
  },
  {
   "cell_type": "markdown",
   "id": "be731ae4",
   "metadata": {},
   "source": [
    "## PyRoomAccoustics test\n",
    "\n",
    "In this section we will test our pipeline with the pra module"
   ]
  },
  {
   "cell_type": "code",
   "execution_count": 63,
   "id": "d4117a2e-ea00-428f-a558-b29eaa329b15",
   "metadata": {
    "tags": []
   },
   "outputs": [],
   "source": [
    "import pyroomacoustics as pra\n",
    "from scipy.io import wavfile\n",
    "import IPython"
   ]
  },
  {
   "cell_type": "code",
   "execution_count": 64,
   "id": "5704d937-090c-41cb-91ac-20760a3d8a74",
   "metadata": {
    "tags": []
   },
   "outputs": [],
   "source": [
    "c = 343.    # speed of sound\n",
    "fs = 16000  # sampling frequency\n",
    "nfft = 256  # FFT size\n",
    "freq_range = [300, 3500]\n",
    "radius=4e-1\n",
    "mic_distance = 4e-1\n",
    "start = 4\n",
    "n_mics = 6\n",
    "\n",
    "snr_db = 2\n",
    "distance = 3.  # meters idk wtf is happening\n",
    "# sigma2 = 10**(-snr_db / 10) / (4. * np.pi * distance)**2\n",
    "sigma2 = 0.01"
   ]
  },
  {
   "cell_type": "markdown",
   "id": "1af96436-0734-4c9f-98f8-280e5093c8ed",
   "metadata": {},
   "source": [
    "### Creating the room"
   ]
  },
  {
   "cell_type": "code",
   "execution_count": 71,
   "id": "ebc8fcd0-727d-458f-ba3a-1224f7acfc03",
   "metadata": {
    "tags": []
   },
   "outputs": [
    {
     "data": {
      "text/plain": [
       "(<Figure size 432x288 with 1 Axes>, <Axes: >)"
      ]
     },
     "execution_count": 71,
     "metadata": {},
     "output_type": "execute_result"
    },
    {
     "data": {
      "image/png": "[encoded data removed]",
      "text/plain": [
       "<Figure size 432x288 with 1 Axes>"
      ]
     },
     "metadata": {
      "needs_background": "light"
     },
     "output_type": "display_data"
    }
   ],
   "source": [
    "room_dim = np.r_[10.,10.]\n",
    "aroom = pra.ShoeBox(room_dim, fs=fs, max_order=0, sigma2_awgn=sigma2)\n",
    "\n",
    "# Adding the microphones\n",
    "\n",
    "mics_coords = (microphone_2D_locations + room_dim / 2).T\n",
    "aroom.add_microphone_array(pra.MicrophoneArray(mics_coords, aroom.fs))\n",
    "\n",
    "# echo = pra.circular_2D_array(center=room_dim/2, M=6, phi0=0, radius=37.5e-3)\n",
    "# echo = np.concatenate((echo, np.array(room_dim/2, ndmin=2).T), axis=1)\n",
    "# aroom.add_microphone_array(pra.MicrophoneArray(echo, aroom.fs))\n",
    "\n",
    "aroom.plot()"
   ]
  },
  {
   "cell_type": "code",
   "execution_count": 72,
   "id": "d984e1f5-2d52-4f6c-a9bf-27ae8882da35",
   "metadata": {
    "tags": []
   },
   "outputs": [
    {
     "data": {
      "text/plain": [
       "(<Figure size 432x288 with 1 Axes>, <Axes: >)"
      ]
     },
     "execution_count": 72,
     "metadata": {},
     "output_type": "execute_result"
    },
    {
     "data": {
      "image/png": "[encoded data removed]",
      "text/plain": [
       "<Figure size 432x288 with 1 Axes>"
      ]
     },
     "metadata": {
      "needs_background": "light"
     },
     "output_type": "display_data"
    }
   ],
   "source": [
    "# Add sources of 1 second duration\n",
    "azimuth = np.array([80]) / 180. * np.pi\n",
    "\n",
    "rng = np.random.RandomState(23)\n",
    "duration_samples = 10000\n",
    "\n",
    "for ang in azimuth:\n",
    "    random_phase = np.random.uniform(0, 2 * np.pi)\n",
    "    source_location = room_dim / 2 + distance * np.r_[np.cos(ang), np.sin(ang)]\n",
    "    # source_signal = [rng.randn(duration_samples) for t in range(fs)]\n",
    "    source_signal = rng.randn(duration_samples)\n",
    "    # source_signal = [5 * np.sin(t * 2 * np.pi / fs) for t in range(duration_samples)]\n",
    "    aroom.add_source(source_location, signal=source_signal)\n",
    "    \n",
    "# Run the simulation\n",
    "aroom.simulate()\n",
    "aroom.plot()"
   ]
  },
  {
   "cell_type": "code",
   "execution_count": 73,
   "id": "9fcb2e0d",
   "metadata": {},
   "outputs": [
    {
     "data": {
      "image/png": "[encoded data removed]",
      "text/plain": [
       "<Figure size 432x288 with 1 Axes>"
      ]
     },
     "metadata": {
      "needs_background": "light"
     },
     "output_type": "display_data"
    }
   ],
   "source": [
    "plt.plot(aroom.mic_array.signals[0])\n",
    "# plt.plot(aroom.mic_array.signals[0][:220])\n",
    "plt.show()"
   ]
  },
  {
   "cell_type": "code",
   "execution_count": 74,
   "id": "1fd80d9b-09ff-4cb9-b5fa-1748ae8547c0",
   "metadata": {
    "tags": []
   },
   "outputs": [
    {
     "data": {
      "text/plain": [
       "array([4.00348751])"
      ]
     },
     "execution_count": 74,
     "metadata": {},
     "output_type": "execute_result"
    }
   ],
   "source": [
    "noise_eigenvalues"
   ]
  },
  {
   "cell_type": "code",
   "execution_count": 75,
   "id": "11b9ddd2-d723-4000-9587-72e637224758",
   "metadata": {
    "tags": []
   },
   "outputs": [
    {
     "name": "stdout",
     "output_type": "stream",
     "text": [
      "Samples shape: (24, 10228)\n",
      "Covariance shape: (24, 24)\n"
     ]
    },
    {
     "data": {
      "image/png": "[encoded data removed]",
      "text/plain": [
       "<Figure size 432x288 with 1 Axes>"
      ]
     },
     "metadata": {
      "needs_background": "light"
     },
     "output_type": "display_data"
    }
   ],
   "source": [
    "n_sources = len(azimuth)\n",
    "\n",
    "signal_eigenvalues, signal_eigenvectors, noise_eigenvalues, noise_eigenvectors = music(aroom.mic_array.signals, -n_sources)\n",
    "spectrum = general_spectrum_function(noise_eigenvectors, mics_coords.T, wavelength)\n",
    "\n",
    "X = np.linspace(-np.pi, np.pi, 10000)\n",
    "Y = [spectrum(x) for x in X]\n",
    "\n",
    "plt.plot(X, Y)\n",
    "for theta in azimuth:\n",
    "    plt.axvline(x=theta, color='red', linestyle=':', alpha=0.5)\n",
    "plt.show()"
   ]
  },
  {
   "cell_type": "code",
   "execution_count": 76,
   "id": "6265c558-04c4-4025-863a-f1c23e3ddb6e",
   "metadata": {
    "tags": []
   },
   "outputs": [],
   "source": [
    "test = pra.transform.stft.analysis(aroom.mic_array.signals.T, nfft, nfft // 2)"
   ]
  },
  {
   "cell_type": "code",
   "execution_count": 77,
   "id": "b71c2d37-112a-4695-bb70-f1da25c24f5c",
   "metadata": {
    "tags": []
   },
   "outputs": [],
   "source": [
    "X = pra.transform.stft.analysis(aroom.mic_array.signals.T, nfft, nfft // 2)\n",
    "X = X.transpose([2, 1, 0])\n",
    "doa = pra.doa.algorithms[\"MUSIC\"](mics_coords, fs, nfft, c=c, num_src=2, max_four=4)\n",
    "doa.locate_sources(X, freq_range=freq_range)\n",
    "spatial_resp = doa.grid.values"
   ]
  },
  {
   "cell_type": "code",
   "execution_count": 78,
   "id": "a69c84f9-a707-4506-a8f8-bf58d1dd9614",
   "metadata": {
    "tags": []
   },
   "outputs": [
    {
     "data": {
      "text/plain": [
       "[<matplotlib.lines.Line2D at 0x2689afc1270>]"
      ]
     },
     "execution_count": 78,
     "metadata": {},
     "output_type": "execute_result"
    },
    {
     "data": {
      "image/png": "[encoded data removed]",
      "text/plain": [
       "<Figure size 432x288 with 1 Axes>"
      ]
     },
     "metadata": {
      "needs_background": "light"
     },
     "output_type": "display_data"
    }
   ],
   "source": [
    "plt.plot(spatial_resp)"
   ]
  }
 ],
 "metadata": {
  "kernelspec": {
   "display_name": "Python 3 (ipykernel)",
   "language": "python",
   "name": "python3"
  },
  "language_info": {
   "codemirror_mode": {
    "name": "ipython",
    "version": 3
   },
   "file_extension": ".py",
   "mimetype": "text/x-python",
   "name": "python",
   "nbconvert_exporter": "python",
   "pygments_lexer": "ipython3",
   "version": "3.10.0"
  }
 },
 "nbformat": 4,
 "nbformat_minor": 5
}
